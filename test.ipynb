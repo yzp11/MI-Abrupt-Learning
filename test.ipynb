{
 "cells": [
  {
   "cell_type": "code",
   "execution_count": 1,
   "metadata": {},
   "outputs": [],
   "source": [
    "import torch as t\n",
    "from torch import Tensor\n",
    "import torch.nn.functional as F"
   ]
  },
  {
   "cell_type": "code",
   "execution_count": 19,
   "metadata": {},
   "outputs": [
    {
     "name": "stdout",
     "output_type": "stream",
     "text": [
      "tensor([[1, 0, 0, 0, 0, 0, 0, 0, 0, 0]])\n"
     ]
    }
   ],
   "source": [
    "label = F.one_hot(t.arange(0,1), num_classes= 10)\n",
    "print(label)"
   ]
  },
  {
   "cell_type": "code",
   "execution_count": 32,
   "metadata": {},
   "outputs": [
    {
     "name": "stdout",
     "output_type": "stream",
     "text": [
      "tensor([ 0.8359,  1.2951,  0.8457, -0.6004])\n"
     ]
    }
   ],
   "source": [
    "print(t.randn(4))"
   ]
  },
  {
   "cell_type": "code",
   "execution_count": 33,
   "metadata": {},
   "outputs": [
    {
     "name": "stdout",
     "output_type": "stream",
     "text": [
      "tensor([4., 6., 9.])\n",
      "tensor([4., 6., 9.])\n"
     ]
    }
   ],
   "source": [
    "aa= Tensor([3,4,6])\n",
    "bb = Tensor([1,2,3])\n",
    "cc = aa+bb\n",
    "print(cc)\n",
    "aa[0] = 0\n",
    "print(cc)"
   ]
  },
  {
   "cell_type": "code",
   "execution_count": 38,
   "metadata": {},
   "outputs": [
    {
     "name": "stdout",
     "output_type": "stream",
     "text": [
      "tensor([[0, 0, 1, 0, 0, 0, 0, 0, 0, 0]])\n",
      "tensor([[0, 0, 0, 0, 0, 0, 0, 0, 1, 0]])\n",
      "torch.Size([2, 10])\n"
     ]
    }
   ],
   "source": [
    "label1 = F.one_hot(t.arange(2,3), num_classes= 10)\n",
    "label2 = F.one_hot(t.arange(8,9), num_classes= 10)\n",
    "\n",
    "cc = t.cat((label1, label2), dim = 0)\n",
    "print(label1)\n",
    "print(label2)\n",
    "print(cc.shape)"
   ]
  },
  {
   "cell_type": "code",
   "execution_count": 60,
   "metadata": {},
   "outputs": [
    {
     "name": "stdout",
     "output_type": "stream",
     "text": [
      "['c', 'd', 'bs', ('aaa', 'bbb'), 'd', 'd', 'd', 'd', ('aaa', 'bbb'), 'bs']\n"
     ]
    }
   ],
   "source": [
    "from random import choices\n",
    "aa_list = [('aaa', 'bbb'), 'bs', 'c', 'd']\n",
    "print(choices(aa_list, k = 10))"
   ]
  }
 ],
 "metadata": {
  "kernelspec": {
   "display_name": "arena-env",
   "language": "python",
   "name": "python3"
  },
  "language_info": {
   "codemirror_mode": {
    "name": "ipython",
    "version": 3
   },
   "file_extension": ".py",
   "mimetype": "text/x-python",
   "name": "python",
   "nbconvert_exporter": "python",
   "pygments_lexer": "ipython3",
   "version": "3.11.9"
  }
 },
 "nbformat": 4,
 "nbformat_minor": 2
}
