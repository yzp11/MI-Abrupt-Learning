{
 "cells": [
  {
   "cell_type": "code",
   "execution_count": 1,
   "metadata": {},
   "outputs": [
    {
     "name": "stdout",
     "output_type": "stream",
     "text": [
      "0\n"
     ]
    }
   ],
   "source": [
    "import torch as t\n",
    "import torch.nn.functional as F\n",
    "\n",
    "aa = t.randint(low = 0, high= 2, size= ()).item()\n",
    "print(aa)"
   ]
  },
  {
   "cell_type": "code",
   "execution_count": 87,
   "metadata": {},
   "outputs": [
    {
     "name": "stdout",
     "output_type": "stream",
     "text": [
      "tensor([[1, 0, 0, 0, 0, 0],\n",
      "        [0, 1, 0, 0, 0, 0],\n",
      "        [0, 0, 1, 0, 0, 0],\n",
      "        [0, 0, 0, 1, 0, 0],\n",
      "        [0, 0, 0, 0, 1, 0]])\n"
     ]
    }
   ],
   "source": [
    "d_P = 6\n",
    "N = 2\n",
    "\n",
    "p_start = t.randint(d_P - 2*N, size= ()).item()\n",
    "position_encoding = F.one_hot(t.arange(p_start, p_start + 2*N + 1), num_classes= d_P)\n",
    "print(position_encoding)"
   ]
  },
  {
   "cell_type": "code",
   "execution_count": 14,
   "metadata": {},
   "outputs": [
    {
     "name": "stdout",
     "output_type": "stream",
     "text": [
      "torch.Size([0, 10])\n",
      "tensor([[ 1.0000,  1.0000,  1.0000,  1.0000,  1.0000,  1.0000,  1.0000,  1.0000,\n",
      "          1.0000,  1.0000],\n",
      "        [ 1.0000,  1.0000,  1.0000,  1.0000,  1.0000,  1.0000,  1.0000,  1.0000,\n",
      "          1.0000,  1.0000],\n",
      "        [ 1.0000,  1.0000,  1.0000,  1.0000,  1.0000,  1.0000,  1.0000,  1.0000,\n",
      "          1.0000,  1.0000],\n",
      "        [-0.9281, -0.1184, -0.8804,  0.6749, -0.7774,  0.1622, -0.8873,  0.1010,\n",
      "         -1.7767,  0.7539]])\n"
     ]
    }
   ],
   "source": [
    "aa = t.zeros(size= (0, 10))\n",
    "\n",
    "print(aa.shape)\n",
    "\n",
    "bb = t.ones(size= (3, 10))\n",
    "\n",
    "cc = t.randn(size= (1, 10))\n",
    "\n",
    "aa = t.cat((aa, bb, cc), dim= 0)\n",
    "print(aa)"
   ]
  }
 ],
 "metadata": {
  "kernelspec": {
   "display_name": "arena-env",
   "language": "python",
   "name": "python3"
  },
  "language_info": {
   "codemirror_mode": {
    "name": "ipython",
    "version": 3
   },
   "file_extension": ".py",
   "mimetype": "text/x-python",
   "name": "python",
   "nbconvert_exporter": "python",
   "pygments_lexer": "ipython3",
   "version": "3.11.9"
  }
 },
 "nbformat": 4,
 "nbformat_minor": 2
}
